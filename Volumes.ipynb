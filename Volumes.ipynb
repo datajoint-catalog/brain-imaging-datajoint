{
 "cells": [
  {
   "cell_type": "code",
   "execution_count": 1,
   "metadata": {
    "collapsed": true
   },
   "outputs": [],
   "source": [
    "import datajoint as dj"
   ]
  },
  {
   "cell_type": "code",
   "execution_count": 2,
   "metadata": {},
   "outputs": [
    {
     "name": "stdout",
     "output_type": "stream",
     "text": [
      "Connecting dimitri@tutorial-db.datajoint.io:3306\n"
     ]
    }
   ],
   "source": [
    "dj.config['database.host'] = 'tutorial-db.datajoint.io'\n",
    "schema = dj.schema('catalog_gordon', locals())"
   ]
  },
  {
   "cell_type": "code",
   "execution_count": 3,
   "metadata": {
    "collapsed": true
   },
   "outputs": [],
   "source": [
    "@schema\n",
    "class Patient(dj.Manual):\n",
    "    definition = \"\"\"\n",
    "    patient_id  : int   # institution patient ID\n",
    "    ----\n",
    "    first_name  : varchar(60)\n",
    "    last_name   : varchar(60)\n",
    "    date_of_birth : date\n",
    "    \"\"\""
   ]
  },
  {
   "cell_type": "code",
   "execution_count": 4,
   "metadata": {
    "collapsed": true
   },
   "outputs": [],
   "source": [
    "@schema\n",
    "class ImagingSession(dj.Manual):\n",
    "    definition = \"\"\"\n",
    "    -> Patient\n",
    "    session  : smallint   # session number\n",
    "    ---\n",
    "    session_date : date \n",
    "    session_notes : varchar(4000)   # free-hand notes\n",
    "    \"\"\""
   ]
  },
  {
   "cell_type": "code",
   "execution_count": 5,
   "metadata": {
    "collapsed": true
   },
   "outputs": [],
   "source": [
    "@schema\n",
    "class ImageVolume(dj.Imported):\n",
    "    definition = \"\"\"\n",
    "    # Raw image data from DICOM\n",
    "    -> ImagingSession\n",
    "    volume  : smallint  # volume number within session\n",
    "    ---\n",
    "    volume_array : longblob    # 3D array\n",
    "    \"\"\"\n",
    "    \n",
    "    def _make_tuples(self, key):\n",
    "        raise NotImplemented\n",
    "        for img in read_dicom(key):\n",
    "            self.insert1(dict(key, volume_array=img))"
   ]
  },
  {
   "cell_type": "code",
   "execution_count": 6,
   "metadata": {
    "collapsed": true
   },
   "outputs": [],
   "source": [
    "@schema\n",
    "class Baseline(dj.Manual):\n",
    "    definition = \"\"\"\n",
    "    # A baseline image for the patient\n",
    "    -> Patient\n",
    "    baseline  : smallint   # baseline number for the patient\n",
    "    ---\n",
    "    baseline_image  : longblob\n",
    "    \"\"\""
   ]
  },
  {
   "cell_type": "code",
   "execution_count": 7,
   "metadata": {},
   "outputs": [],
   "source": [
    "@schema\n",
    "class RegisteredVolume(dj.Computed):\n",
    "    definition = \"\"\"\n",
    "    # Registration of volumes to baseline volume\n",
    "    -> ImageVolume\n",
    "    -> Baseline\n",
    "    ---\n",
    "    transform  :  longblob  # transformation from volume to baseline\n",
    "    registered_image  : longblob  # volume registered to baseline\n",
    "    \"\"\"\n",
    "    \n",
    "    def _make_tuples(self, key):\n",
    "        volume = (ImageVolume() & key).fetch1('volume_array')\n",
    "        baseline = (BaseLine() & key).fetch1('baseline_image')\n",
    "        registered_image, transform = mylib.register(volume, baseline)\n",
    "        self.insert1(dict(key, transform=transform, registered_image=registered_image))\n",
    "        "
   ]
  },
  {
   "cell_type": "code",
   "execution_count": 8,
   "metadata": {},
   "outputs": [],
   "source": [
    "@schema\n",
    "class SkullRemoved(dj.Computed):\n",
    "    definition = \"\"\"\n",
    "    # Registered volume with skull removed\n",
    "    -> RegisteredVolume\n",
    "    ---\n",
    "    skullless  : longblob  # volume with skulll removed\n",
    "    \"\"\"\n",
    "    \n",
    "    def _make_tuples(self, key):\n",
    "        image = (RegisteredVolume() & key).fetch1(registered_image)\n",
    "        skullless = mylib.remove_skull(image)\n",
    "        self.insert1(dict(key, skullless=skullless))"
   ]
  },
  {
   "cell_type": "code",
   "execution_count": 9,
   "metadata": {
    "collapsed": true
   },
   "outputs": [],
   "source": [
    "@schema\n",
    "class AnatomicalStructure(dj.Lookup):\n",
    "    definition = \"\"\"\n",
    "    # Anatomical structures for modeling\n",
    "    anatomical_structure  : varchar(8)  # short name\n",
    "    ---\n",
    "    structure_description  : varchar(255)  # full name\n",
    "    \"\"\"\n",
    "    contents = (\n",
    "        ['FuG', 'fusiform gyrus'],\n",
    "        ['LV', 'lateral ventricle'],\n",
    "        ['PoG', 'postcentral gyrus']\n",
    "    )"
   ]
  },
  {
   "cell_type": "code",
   "execution_count": 10,
   "metadata": {},
   "outputs": [
    {
     "data": {
      "text/html": [
       "\n",
       "        \n",
       "        <style type=\"text/css\">\n",
       "            .Relation{\n",
       "                border-collapse:collapse;\n",
       "            }\n",
       "            .Relation th{\n",
       "                background: #A0A0A0; color: #ffffff; padding:4px; border:#f0e0e0 1px solid;\n",
       "                font-weight: normal; font-family: monospace; font-size: 75%;\n",
       "            }\n",
       "            .Relation td{\n",
       "                padding:4px; border:#f0e0e0 1px solid; font-size:75%;\n",
       "            }\n",
       "            .Relation tr:nth-child(odd){\n",
       "                background: #ffffff;\n",
       "            }\n",
       "            .Relation tr:nth-child(even){\n",
       "                background: #f3f1ff;\n",
       "            }\n",
       "            /* Tooltip container */\n",
       "            .djtooltip {\n",
       "            }\n",
       "\n",
       "            /* Tooltip text */\n",
       "            .djtooltip .djtooltiptext {\n",
       "                visibility: hidden;\n",
       "                width: 120px;\n",
       "                background-color: black;\n",
       "                color: #fff;\n",
       "                text-align: center;\n",
       "                padding: 5px 0;\n",
       "                border-radius: 6px;\n",
       "\n",
       "                /* Position the tooltip text - see examples below! */\n",
       "                position: absolute;\n",
       "                z-index: 1;\n",
       "            }\n",
       "\n",
       "\n",
       "            #primary {\n",
       "                font-weight: bold;\n",
       "                color: black;\n",
       "            }\n",
       "\n",
       "            #nonprimary {\n",
       "                font-weight: normal;\n",
       "                color: white;\n",
       "            }\n",
       "\n",
       "            /* Show the tooltip text when you mouse over the tooltip container */\n",
       "            .djtooltip:hover .djtooltiptext {\n",
       "                visibility: visible;\n",
       "            }\n",
       "        </style>\n",
       "        \n",
       "        <b>Anatomical structures for modeling</b>\n",
       "            <div style=\"max-height:1000px;max-width:1500px;overflow:auto;\">\n",
       "            <table border=\"1\" class=\"Relation\">\n",
       "                <thead> <tr style=\"text-align: right;\"> <th> <div class=\"djtooltip\">\n",
       "                                <p id=\"primary\">anatomical_structure</p>\n",
       "                                <span class=\"djtooltiptext\">short name</span>\n",
       "                            </div></th><th><div class=\"djtooltip\">\n",
       "                                <p id=\"nonprimary\">structure_description</p>\n",
       "                                <span class=\"djtooltiptext\">full name</span>\n",
       "                            </div> </th> </tr> </thead>\n",
       "                <tbody> <tr> <td>FuG</td>\n",
       "<td>fusiform gyrus</td></tr><tr><td>LV</td>\n",
       "<td>lateral ventricle</td></tr><tr><td>PoG</td>\n",
       "<td>postcentral gyrus</td> </tr> </tbody>\n",
       "            </table>\n",
       "            \n",
       "            <p>3 tuples</p></div>\n",
       "            "
      ],
      "text/plain": [
       "*anatomical_st structure_desc\n",
       "+------------+ +------------+\n",
       "FuG            fusiform gyrus\n",
       "LV             lateral ventri\n",
       "PoG            postcentral gy\n",
       " (3 tuples)"
      ]
     },
     "execution_count": 10,
     "metadata": {},
     "output_type": "execute_result"
    }
   ],
   "source": [
    "AnatomicalStructure()"
   ]
  },
  {
   "cell_type": "code",
   "execution_count": 11,
   "metadata": {
    "collapsed": true
   },
   "outputs": [],
   "source": [
    "@schema\n",
    "class Geometry(dj.Computed):\n",
    "    definition = \"\"\"\n",
    "    # Geometric model of anatomcal structures\n",
    "    -> SkullRemoved\n",
    "    \"\"\"\n",
    "    \n",
    "    class Mesh(dj.Part):\n",
    "        definition = \"\"\"\n",
    "        -> Geometry\n",
    "        -> AnatomicalStructure\n",
    "        ---\n",
    "        n_vertices : int \n",
    "        n_triangles : int\n",
    "        vertices  : longblob   # (x,y,z) (mm) coordinates\n",
    "        triangles : longblob   # (v1,v2,v3) - vertex indices\n",
    "        \"\"\"    "
   ]
  },
  {
   "cell_type": "code",
   "execution_count": 12,
   "metadata": {
    "collapsed": true
   },
   "outputs": [],
   "source": [
    "@schema\n",
    "class Atlas(dj.Lookup):\n",
    "    definition = \"\"\"\n",
    "    # Anatomical atlas for common coordinate spaces\n",
    "    atlas : varchar(12)  # anatomical atlas\n",
    "    ---\n",
    "    \"\"\""
   ]
  },
  {
   "cell_type": "code",
   "execution_count": 13,
   "metadata": {
    "collapsed": true
   },
   "outputs": [],
   "source": [
    "@schema\n",
    "class AtlasImage(dj.Computed):\n",
    "    definition = \"\"\"\n",
    "    # Geometry in atlas coordinates\n",
    "    -> Geometry\n",
    "    -> Atlas\n",
    "    ---\n",
    "    atlas_transformation : longblob  #  transformation from patient coordinates to atlas coordinates\n",
    "    atlas_image          : longblob  #  skulless image in atlas coordinates\n",
    "    \"\"\""
   ]
  },
  {
   "cell_type": "code",
   "execution_count": 14,
   "metadata": {},
   "outputs": [
    {
     "data": {
      "text/html": [
       "\n",
       "        \n",
       "        <style type=\"text/css\">\n",
       "            .Relation{\n",
       "                border-collapse:collapse;\n",
       "            }\n",
       "            .Relation th{\n",
       "                background: #A0A0A0; color: #ffffff; padding:4px; border:#f0e0e0 1px solid;\n",
       "                font-weight: normal; font-family: monospace; font-size: 75%;\n",
       "            }\n",
       "            .Relation td{\n",
       "                padding:4px; border:#f0e0e0 1px solid; font-size:75%;\n",
       "            }\n",
       "            .Relation tr:nth-child(odd){\n",
       "                background: #ffffff;\n",
       "            }\n",
       "            .Relation tr:nth-child(even){\n",
       "                background: #f3f1ff;\n",
       "            }\n",
       "            /* Tooltip container */\n",
       "            .djtooltip {\n",
       "            }\n",
       "\n",
       "            /* Tooltip text */\n",
       "            .djtooltip .djtooltiptext {\n",
       "                visibility: hidden;\n",
       "                width: 120px;\n",
       "                background-color: black;\n",
       "                color: #fff;\n",
       "                text-align: center;\n",
       "                padding: 5px 0;\n",
       "                border-radius: 6px;\n",
       "\n",
       "                /* Position the tooltip text - see examples below! */\n",
       "                position: absolute;\n",
       "                z-index: 1;\n",
       "            }\n",
       "\n",
       "\n",
       "            #primary {\n",
       "                font-weight: bold;\n",
       "                color: black;\n",
       "            }\n",
       "\n",
       "            #nonprimary {\n",
       "                font-weight: normal;\n",
       "                color: white;\n",
       "            }\n",
       "\n",
       "            /* Show the tooltip text when you mouse over the tooltip container */\n",
       "            .djtooltip:hover .djtooltiptext {\n",
       "                visibility: visible;\n",
       "            }\n",
       "        </style>\n",
       "        \n",
       "        <b>Geometry in atlas coordinates</b>\n",
       "            <div style=\"max-height:1000px;max-width:1500px;overflow:auto;\">\n",
       "            <table border=\"1\" class=\"Relation\">\n",
       "                <thead> <tr style=\"text-align: right;\"> <th> <div class=\"djtooltip\">\n",
       "                                <p id=\"primary\">patient_id</p>\n",
       "                                <span class=\"djtooltiptext\">institution patient ID</span>\n",
       "                            </div></th><th><div class=\"djtooltip\">\n",
       "                                <p id=\"primary\">session</p>\n",
       "                                <span class=\"djtooltiptext\">session number</span>\n",
       "                            </div></th><th><div class=\"djtooltip\">\n",
       "                                <p id=\"primary\">volume</p>\n",
       "                                <span class=\"djtooltiptext\">volume number within session</span>\n",
       "                            </div></th><th><div class=\"djtooltip\">\n",
       "                                <p id=\"primary\">baseline</p>\n",
       "                                <span class=\"djtooltiptext\">baseline number for the patient</span>\n",
       "                            </div></th><th><div class=\"djtooltip\">\n",
       "                                <p id=\"primary\">atlas</p>\n",
       "                                <span class=\"djtooltiptext\">anatomical atlas</span>\n",
       "                            </div></th><th><div class=\"djtooltip\">\n",
       "                                <p id=\"nonprimary\">atlas_transformation</p>\n",
       "                                <span class=\"djtooltiptext\">calculated attribute</span>\n",
       "                            </div></th><th><div class=\"djtooltip\">\n",
       "                                <p id=\"nonprimary\">atlas_image</p>\n",
       "                                <span class=\"djtooltiptext\">calculated attribute</span>\n",
       "                            </div> </th> </tr> </thead>\n",
       "                <tbody> <tr>  </tr> </tbody>\n",
       "            </table>\n",
       "            \n",
       "            <p>0 tuples</p></div>\n",
       "            "
      ],
      "text/plain": [
       "*patient_id    *session    *volume    *baseline    *atlas    atlas_transfor atlas_image   \n",
       "+------------+ +---------+ +--------+ +----------+ +-------+ +------------+ +------------+\n",
       "\n",
       " (0 tuples)"
      ]
     },
     "execution_count": 14,
     "metadata": {},
     "output_type": "execute_result"
    }
   ],
   "source": [
    "AtlasImage()"
   ]
  },
  {
   "cell_type": "code",
   "execution_count": 15,
   "metadata": {},
   "outputs": [],
   "source": [
    "@schema\n",
    "class RefAtlasImage(dj.Manual):\n",
    "    definition = \"\"\"\n",
    "    # A reference geometry (another patient/geometry) \n",
    "    (ref_patient, ref_session, ref_volume, ref_baseline) -> AtlasImage(patient_id, session, volume, baseline)\n",
    "    \"\"\"\n",
    "\n",
    "@schema\n",
    "class ComparativeAnalysis(dj.Computed):\n",
    "    definition = \"\"\"\n",
    "    -> AtlasImage\n",
    "    -> RefAtlasImage\n",
    "    ---\n",
    "    comparative_analysis : longblob \n",
    "    \"\"\"    "
   ]
  },
  {
   "cell_type": "code",
   "execution_count": 16,
   "metadata": {},
   "outputs": [
    {
     "data": {
      "image/svg+xml": [
       "<svg height=\"668pt\" viewBox=\"0.00 0.00 403.00 668.00\" width=\"403pt\" xmlns=\"http://www.w3.org/2000/svg\" xmlns:xlink=\"http://www.w3.org/1999/xlink\">\n",
       "<g class=\"graph\" id=\"graph0\" transform=\"scale(1 1) rotate(0) translate(4 664)\">\n",
       "<polygon fill=\"white\" points=\"-4,4 -4,-664 399,-664 399,4 -4,4\" stroke=\"none\"/>\n",
       "<!-- 0 -->\n",
       "<g class=\"node\" id=\"node1\"><title>0</title>\n",
       "<ellipse cx=\"70\" cy=\"-154\" fill=\"#ff8800\" fill-opacity=\"0.501961\" rx=\"14.0999\" ry=\"14.1334\" stroke=\"#ff8800\" stroke-opacity=\"0.501961\"/>\n",
       "<text fill=\"white\" font-family=\"arial\" font-size=\"7.00\" text-anchor=\"middle\" x=\"70\" y=\"-152.425\">0</text>\n",
       "</g>\n",
       "<!-- RefAtlasImage -->\n",
       "<g class=\"node\" id=\"node6\"><title>RefAtlasImage</title>\n",
       "<polygon fill=\"#00ff00\" fill-opacity=\"0.188235\" points=\"101.028,-103.5 6.97164,-103.5 6.97164,-68.5 101.028,-68.5 101.028,-103.5\" stroke=\"#00ff00\" stroke-opacity=\"0.188235\"/>\n",
       "<text fill=\"darkgreen\" font-family=\"arial\" font-size=\"12.00\" text-anchor=\"middle\" x=\"54\" y=\"-83.2994\">RefAtlasImage</text>\n",
       "</g>\n",
       "<!-- 0&#45;&gt;RefAtlasImage -->\n",
       "<g class=\"edge\" id=\"edge1\"><title>0-&gt;RefAtlasImage</title>\n",
       "<path d=\"M66.915,-140.275C64.4087,-129.936 60.8516,-115.263 58.1048,-103.932\" fill=\"none\" stroke=\"#000000\" stroke-opacity=\"0.250980\" stroke-width=\"2\"/>\n",
       "</g>\n",
       "<!-- Patient -->\n",
       "<g class=\"node\" id=\"node2\"><title>Patient</title>\n",
       "<polygon fill=\"#00ff00\" fill-opacity=\"0.188235\" points=\"251.518,-659.5 198.482,-659.5 198.482,-624.5 251.518,-624.5 251.518,-659.5\" stroke=\"#00ff00\" stroke-opacity=\"0.188235\"/>\n",
       "<text fill=\"darkgreen\" font-family=\"arial\" font-size=\"12.00\" text-anchor=\"middle\" x=\"225\" y=\"-639.299\">Patient</text>\n",
       "</g>\n",
       "<!-- ImagingSession -->\n",
       "<g class=\"node\" id=\"node9\"><title>ImagingSession</title>\n",
       "<polygon fill=\"#00ff00\" fill-opacity=\"0.188235\" points=\"232.537,-587.5 131.463,-587.5 131.463,-552.5 232.537,-552.5 232.537,-587.5\" stroke=\"#00ff00\" stroke-opacity=\"0.188235\"/>\n",
       "<text fill=\"darkgreen\" font-family=\"arial\" font-size=\"12.00\" text-anchor=\"middle\" x=\"182\" y=\"-567.299\">ImagingSession</text>\n",
       "</g>\n",
       "<!-- Patient&#45;&gt;ImagingSession -->\n",
       "<g class=\"edge\" id=\"edge2\"><title>Patient-&gt;ImagingSession</title>\n",
       "<path d=\"M214.81,-624.411C208.054,-613.414 199.217,-599.027 192.416,-587.956\" fill=\"none\" stroke=\"#000000\" stroke-opacity=\"0.250980\" stroke-width=\"0.75\"/>\n",
       "</g>\n",
       "<!-- Baseline -->\n",
       "<g class=\"node\" id=\"node12\"><title>Baseline</title>\n",
       "<polygon fill=\"#00ff00\" fill-opacity=\"0.188235\" points=\"306.023,-515.5 243.977,-515.5 243.977,-480.5 306.023,-480.5 306.023,-515.5\" stroke=\"#00ff00\" stroke-opacity=\"0.188235\"/>\n",
       "<text fill=\"darkgreen\" font-family=\"arial\" font-size=\"12.00\" text-anchor=\"middle\" x=\"275\" y=\"-495.299\">Baseline</text>\n",
       "</g>\n",
       "<!-- Patient&#45;&gt;Baseline -->\n",
       "<g class=\"edge\" id=\"edge3\"><title>Patient-&gt;Baseline</title>\n",
       "<path d=\"M230.833,-624.433C240.416,-597.217 259.389,-543.334 269.049,-515.902\" fill=\"none\" stroke=\"#000000\" stroke-opacity=\"0.250980\" stroke-width=\"0.75\"/>\n",
       "</g>\n",
       "<!-- AtlasImage -->\n",
       "<g class=\"node\" id=\"node3\"><title>AtlasImage</title>\n",
       "<ellipse cx=\"107\" cy=\"-220\" fill=\"#ff0000\" fill-opacity=\"0.125490\" rx=\"53.144\" ry=\"15.3287\" stroke=\"#ff0000\" stroke-opacity=\"0.125490\"/>\n",
       "<text fill=\"#7f0000\" font-family=\"arial\" font-size=\"12.00\" text-anchor=\"middle\" x=\"107\" y=\"-217.299\">AtlasImage</text>\n",
       "</g>\n",
       "<!-- AtlasImage&#45;&gt;0 -->\n",
       "<g class=\"edge\" id=\"edge4\"><title>AtlasImage-&gt;0</title>\n",
       "<path d=\"M98.6041,-204.477C91.9519,-192.971 82.7852,-177.115 76.6389,-166.483\" fill=\"none\" stroke=\"#000000\" stroke-opacity=\"0.250980\" stroke-width=\"2\"/>\n",
       "</g>\n",
       "<!-- ComparativeAnalysis -->\n",
       "<g class=\"node\" id=\"node11\"><title>ComparativeAnalysis</title>\n",
       "<ellipse cx=\"91\" cy=\"-16\" fill=\"#ff0000\" fill-opacity=\"0.125490\" rx=\"91.0186\" ry=\"15.3287\" stroke=\"#ff0000\" stroke-opacity=\"0.125490\"/>\n",
       "<text fill=\"#7f0000\" font-family=\"arial\" font-size=\"12.00\" text-anchor=\"middle\" x=\"91\" y=\"-13.2994\">ComparativeAnalysis</text>\n",
       "</g>\n",
       "<!-- AtlasImage&#45;&gt;ComparativeAnalysis -->\n",
       "<g class=\"edge\" id=\"edge5\"><title>AtlasImage-&gt;ComparativeAnalysis</title>\n",
       "<path d=\"M109.2,-204.272C112.841,-177.084 118.883,-117.287 110,-68 107.721,-55.3536 102.501,-41.7504 98.1081,-31.7762\" fill=\"none\" stroke=\"#000000\" stroke-opacity=\"0.250980\" stroke-width=\"0.75\"/>\n",
       "</g>\n",
       "<!-- Atlas -->\n",
       "<g class=\"node\" id=\"node4\"><title>Atlas</title>\n",
       "<polygon fill=\"#000000\" fill-opacity=\"0.125490\" points=\"126.174,-307.5 87.8261,-307.5 87.8261,-272.5 126.174,-272.5 126.174,-307.5\" stroke=\"none\"/>\n",
       "<text font-family=\"arial\" font-size=\"10.00\" text-anchor=\"middle\" x=\"107\" y=\"-287.75\">Atlas</text>\n",
       "</g>\n",
       "<!-- Atlas&#45;&gt;AtlasImage -->\n",
       "<g class=\"edge\" id=\"edge6\"><title>Atlas-&gt;AtlasImage</title>\n",
       "<path d=\"M107,-272.191C107,-261.021 107,-246.493 107,-235.768\" fill=\"none\" stroke=\"#000000\" stroke-opacity=\"0.250980\" stroke-width=\"0.75\"/>\n",
       "</g>\n",
       "<!-- Geometry.Mesh -->\n",
       "<g class=\"node\" id=\"node5\"><title>Geometry.Mesh</title>\n",
       "<polygon fill=\"none\" points=\"265.293,-230.006 178.707,-230.006 178.707,-209.994 265.293,-209.994 265.293,-230.006\" stroke=\"none\"/>\n",
       "<text font-family=\"arial\" font-size=\"10.00\" text-anchor=\"middle\" x=\"222\" y=\"-217.75\">Geometry.Mesh</text>\n",
       "</g>\n",
       "<!-- RefAtlasImage&#45;&gt;ComparativeAnalysis -->\n",
       "<g class=\"edge\" id=\"edge7\"><title>RefAtlasImage-&gt;ComparativeAnalysis</title>\n",
       "<path d=\"M63.1461,-68.191C69.2236,-57.0214 77.129,-42.4927 82.9644,-31.7681\" fill=\"none\" stroke=\"#000000\" stroke-opacity=\"0.250980\" stroke-width=\"0.75\"/>\n",
       "</g>\n",
       "<!-- ImageVolume -->\n",
       "<g class=\"node\" id=\"node7\"><title>ImageVolume</title>\n",
       "<ellipse cx=\"169\" cy=\"-498\" fill=\"#00007f\" fill-opacity=\"0.250980\" rx=\"57.18\" ry=\"17.5\" stroke=\"#00007f\" stroke-opacity=\"0.250980\"/>\n",
       "<text fill=\"#00007f\" font-family=\"arial\" font-size=\"12.00\" text-anchor=\"middle\" x=\"169\" y=\"-495.299\">ImageVolume</text>\n",
       "</g>\n",
       "<!-- RegisteredVolume -->\n",
       "<g class=\"node\" id=\"node13\"><title>RegisteredVolume</title>\n",
       "<ellipse cx=\"222\" cy=\"-428\" fill=\"#ff0000\" fill-opacity=\"0.125490\" rx=\"80.475\" ry=\"15.3287\" stroke=\"#ff0000\" stroke-opacity=\"0.125490\"/>\n",
       "<text fill=\"#7f0000\" font-family=\"arial\" font-size=\"12.00\" text-anchor=\"middle\" x=\"222\" y=\"-425.299\">RegisteredVolume</text>\n",
       "</g>\n",
       "<!-- ImageVolume&#45;&gt;RegisteredVolume -->\n",
       "<g class=\"edge\" id=\"edge8\"><title>ImageVolume-&gt;RegisteredVolume</title>\n",
       "<path d=\"M181.56,-480.885C190.376,-469.574 202.07,-454.571 210.614,-443.609\" fill=\"none\" stroke=\"#000000\" stroke-opacity=\"0.250980\" stroke-width=\"0.75\"/>\n",
       "</g>\n",
       "<!-- SkullRemoved -->\n",
       "<g class=\"node\" id=\"node8\"><title>SkullRemoved</title>\n",
       "<ellipse cx=\"222\" cy=\"-360\" fill=\"#ff0000\" fill-opacity=\"0.125490\" rx=\"66.0309\" ry=\"15.3287\" stroke=\"#ff0000\" stroke-opacity=\"0.125490\"/>\n",
       "<text fill=\"#7f0000\" font-family=\"arial\" font-size=\"12.00\" text-anchor=\"middle\" x=\"222\" y=\"-357.299\">SkullRemoved</text>\n",
       "</g>\n",
       "<!-- Geometry -->\n",
       "<g class=\"node\" id=\"node14\"><title>Geometry</title>\n",
       "<ellipse cx=\"222\" cy=\"-290\" fill=\"#ff0000\" fill-opacity=\"0.125490\" rx=\"48.3476\" ry=\"15.3287\" stroke=\"#ff0000\" stroke-opacity=\"0.125490\"/>\n",
       "<text fill=\"#7f0000\" font-family=\"arial\" font-size=\"12.00\" text-anchor=\"middle\" x=\"222\" y=\"-287.299\">Geometry</text>\n",
       "</g>\n",
       "<!-- SkullRemoved&#45;&gt;Geometry -->\n",
       "<g class=\"edge\" id=\"edge9\"><title>SkullRemoved-&gt;Geometry</title>\n",
       "<path d=\"M222,-344.579C222,-333.195 222,-317.369 222,-305.87\" fill=\"none\" stroke=\"#000000\" stroke-opacity=\"0.250980\" stroke-width=\"2\"/>\n",
       "</g>\n",
       "<!-- ImagingSession&#45;&gt;ImageVolume -->\n",
       "<g class=\"edge\" id=\"edge10\"><title>ImagingSession-&gt;ImageVolume</title>\n",
       "<path d=\"M178.919,-552.411C176.877,-541.414 174.205,-527.027 172.149,-515.956\" fill=\"none\" stroke=\"#000000\" stroke-opacity=\"0.250980\" stroke-width=\"0.75\"/>\n",
       "</g>\n",
       "<!-- AnatomicalStructure -->\n",
       "<g class=\"node\" id=\"node10\"><title>AnatomicalStructure</title>\n",
       "<polygon fill=\"#000000\" fill-opacity=\"0.125490\" points=\"395.029,-307.5 288.971,-307.5 288.971,-272.5 395.029,-272.5 395.029,-307.5\" stroke=\"none\"/>\n",
       "<text font-family=\"arial\" font-size=\"10.00\" text-anchor=\"middle\" x=\"342\" y=\"-287.75\">AnatomicalStructure</text>\n",
       "</g>\n",
       "<!-- AnatomicalStructure&#45;&gt;Geometry.Mesh -->\n",
       "<g class=\"edge\" id=\"edge11\"><title>AnatomicalStructure-&gt;Geometry.Mesh</title>\n",
       "<path d=\"M312.645,-272.365C288.915,-258.918 256.442,-240.517 237.495,-229.78\" fill=\"none\" stroke=\"#000000\" stroke-opacity=\"0.250980\" stroke-width=\"0.75\"/>\n",
       "</g>\n",
       "<!-- Baseline&#45;&gt;RegisteredVolume -->\n",
       "<g class=\"edge\" id=\"edge12\"><title>Baseline-&gt;RegisteredVolume</title>\n",
       "<path d=\"M261.899,-480.191C253.071,-468.864 241.55,-454.083 233.159,-443.317\" fill=\"none\" stroke=\"#000000\" stroke-opacity=\"0.250980\" stroke-width=\"0.75\"/>\n",
       "</g>\n",
       "<!-- RegisteredVolume&#45;&gt;SkullRemoved -->\n",
       "<g class=\"edge\" id=\"edge13\"><title>RegisteredVolume-&gt;SkullRemoved</title>\n",
       "<path d=\"M222,-412.352C222,-401.415 222,-386.534 222,-375.607\" fill=\"none\" stroke=\"#000000\" stroke-opacity=\"0.250980\" stroke-width=\"2\"/>\n",
       "</g>\n",
       "<!-- Geometry&#45;&gt;AtlasImage -->\n",
       "<g class=\"edge\" id=\"edge14\"><title>Geometry-&gt;AtlasImage</title>\n",
       "<path d=\"M200.369,-276.21C180.069,-264.206 149.838,-246.331 129.318,-234.197\" fill=\"none\" stroke=\"#000000\" stroke-opacity=\"0.250980\" stroke-width=\"0.75\"/>\n",
       "</g>\n",
       "<!-- Geometry&#45;&gt;Geometry.Mesh -->\n",
       "<g class=\"edge\" id=\"edge15\"><title>Geometry-&gt;Geometry.Mesh</title>\n",
       "<path d=\"M222,-274.579C222,-261.012 222,-241.135 222,-229.794\" fill=\"none\" stroke=\"#000000\" stroke-opacity=\"0.250980\" stroke-width=\"0.75\"/>\n",
       "</g>\n",
       "</g>\n",
       "</svg>"
      ],
      "text/plain": [
       "<datajoint.erd.ERD at 0x10bb64e80>"
      ]
     },
     "execution_count": 16,
     "metadata": {},
     "output_type": "execute_result"
    }
   ],
   "source": [
    "dj.ERD(schema)"
   ]
  },
  {
   "cell_type": "code",
   "execution_count": 17,
   "metadata": {},
   "outputs": [],
   "source": [
    "# schema.drop()"
   ]
  }
 ],
 "metadata": {
  "kernelspec": {
   "display_name": "Python 3",
   "language": "python",
   "name": "python3"
  },
  "language_info": {
   "codemirror_mode": {
    "name": "ipython",
    "version": 3
   },
   "file_extension": ".py",
   "mimetype": "text/x-python",
   "name": "python",
   "nbconvert_exporter": "python",
   "pygments_lexer": "ipython3",
   "version": "3.6.0"
  }
 },
 "nbformat": 4,
 "nbformat_minor": 2
}
